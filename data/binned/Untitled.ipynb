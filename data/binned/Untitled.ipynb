{
 "cells": [
  {
   "cell_type": "code",
   "execution_count": 4,
   "metadata": {},
   "outputs": [],
   "source": [
    "a = set([1,2,3])\n",
    "b = set([3,4,5])"
   ]
  },
  {
   "cell_type": "code",
   "execution_count": 8,
   "metadata": {},
   "outputs": [
    {
     "data": {
      "text/plain": [
       "{3}"
      ]
     },
     "execution_count": 8,
     "metadata": {},
     "output_type": "execute_result"
    }
   ],
   "source": [
    "a & b"
   ]
  },
  {
   "cell_type": "code",
   "execution_count": 9,
   "metadata": {},
   "outputs": [
    {
     "data": {
      "text/plain": [
       "['Untitled.ipynb',\n",
       " 'wt_r1_19-21ACT_antisense_second_um_binned_binned.json',\n",
       " '.ipynb_checkpoints',\n",
       " 'wt_r1_21-23G_antisense__um_binned_binned_22Gs.json']"
      ]
     },
     "execution_count": 9,
     "metadata": {},
     "output_type": "execute_result"
    }
   ],
   "source": [
    "import os\n",
    "os.listdir()"
   ]
  },
  {
   "cell_type": "code",
   "execution_count": 17,
   "metadata": {},
   "outputs": [],
   "source": [
    "import json\n",
    "with open('../filtered/_wt_r1_21-23G_antisense.json') as f:\n",
    "    data = json.load(f)"
   ]
  },
  {
   "cell_type": "code",
   "execution_count": 18,
   "metadata": {},
   "outputs": [],
   "source": [
    "genes = list(data.keys())[:10]"
   ]
  },
  {
   "cell_type": "code",
   "execution_count": 22,
   "metadata": {},
   "outputs": [],
   "source": [
    "short = {gene:data[gene] for gene in genes}\n"
   ]
  },
  {
   "cell_type": "code",
   "execution_count": 46,
   "metadata": {},
   "outputs": [
    {
     "data": {
      "text/plain": [
       "'GAGTG'"
      ]
     },
     "execution_count": 46,
     "metadata": {},
     "output_type": "execute_result"
    }
   ],
   "source": [
    "from random import randrange\n",
    "\n",
    "def getRand(n):\n",
    "    return ''.join(['ATGC'[randrange(4)] for i in range(n)])\n",
    "def dummy(k, n):\n",
    "    return {getRand(n):i for i in range(k)}\n",
    "getRand(5)"
   ]
  },
  {
   "cell_type": "code",
   "execution_count": 59,
   "metadata": {},
   "outputs": [
    {
     "data": {
      "text/plain": [
       "True"
      ]
     },
     "execution_count": 59,
     "metadata": {},
     "output_type": "execute_result"
    }
   ],
   "source": [
    "'a' in 'atg'"
   ]
  },
  {
   "cell_type": "code",
   "execution_count": 57,
   "metadata": {},
   "outputs": [],
   "source": [
    "\n",
    "short = {}\n",
    "for gene in 'ABC':\n",
    "    short[gene] = {'u':dummy(5, 22), 'm':dummy(2, 22)}"
   ]
  },
  {
   "cell_type": "code",
   "execution_count": 58,
   "metadata": {},
   "outputs": [
    {
     "data": {
      "text/plain": [
       "{'A': {'u': {'TGGAAGCGGTGGGAATAAGGAA': 0,\n",
       "   'TCATCAGGACCATCCGACCCGT': 1,\n",
       "   'ATAGCAATGAGGAAGAGTGTAG': 2,\n",
       "   'GGACCCCCAACAGCAATATTAC': 3,\n",
       "   'AGGGTCGGCGAACGCTGACAGG': 4},\n",
       "  'm': {'GGCAGACGGTGGAGGCATAGTT': 0, 'TTATTTTTCCGACCGACGATGA': 1}},\n",
       " 'B': {'u': {'GGAAGCATCTGGGGGTGAACGA': 0,\n",
       "   'AGGACCGCACCTGGACCTGGCT': 1,\n",
       "   'CCTGGGATATTAAATGCCCAGA': 2,\n",
       "   'GGCATTATGGGATGGATGACAT': 3,\n",
       "   'CGGTCGGGCGTTTGGATTCTTT': 4},\n",
       "  'm': {'CGTATTCGAAGGATGCACAAAG': 0, 'AGGAGGTCTAGATTAACGTTTA': 1}},\n",
       " 'C': {'u': {'CAGGGATCAGGAGGCGTCTGTC': 0,\n",
       "   'TGGGCACCTATCAAGTAGATTA': 1,\n",
       "   'ACACGGGATAGCCTGTTACTAA': 2,\n",
       "   'GGCACCAGCGGCTCTTTATCCT': 3,\n",
       "   'CTGTAGGTGTACGTTCGGTACA': 4},\n",
       "  'm': {'TTGGCGTTGAGGGAACCCTACT': 0, 'CTTGCTCACAAGCCCGTGTTAC': 1}}}"
      ]
     },
     "execution_count": 58,
     "metadata": {},
     "output_type": "execute_result"
    }
   ],
   "source": [
    "short\n"
   ]
  },
  {
   "cell_type": "code",
   "execution_count": null,
   "metadata": {},
   "outputs": [],
   "source": []
  }
 ],
 "metadata": {
  "kernelspec": {
   "display_name": "Python 3",
   "language": "python",
   "name": "python3"
  },
  "language_info": {
   "codemirror_mode": {
    "name": "ipython",
    "version": 3
   },
   "file_extension": ".py",
   "mimetype": "text/x-python",
   "name": "python",
   "nbconvert_exporter": "python",
   "pygments_lexer": "ipython3",
   "version": "3.7.3"
  }
 },
 "nbformat": 4,
 "nbformat_minor": 4
}
